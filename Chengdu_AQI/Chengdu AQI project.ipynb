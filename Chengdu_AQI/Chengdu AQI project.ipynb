{
 "cells": [
  {
   "cell_type": "markdown",
   "metadata": {
    "extensions": {
     "jupyter_dashboards": {
      "version": 1,
      "views": {
       "grid_default": {
        "col": 4,
        "height": 4,
        "hidden": false,
        "row": 15,
        "width": 4
       },
       "report_default": {
        "hidden": false
       }
      }
     }
    }
   },
   "source": [
    "# Chengdu Air Quality Index project\n",
    "\n",
    "data collected from US consulate in Chengdu, Sichuan, China.\n",
    "- links to data used\n",
    "\n",
    "original csv files were slightly altered, removed text at top and column with unrecognizable characters"
   ]
  },
  {
   "cell_type": "markdown",
   "metadata": {
    "extensions": {
     "jupyter_dashboards": {
      "version": 1,
      "views": {
       "grid_default": {
        "col": 4,
        "height": 4,
        "hidden": false,
        "row": 19,
        "width": 4
       },
       "report_default": {
        "hidden": false
       }
      }
     }
    }
   },
   "source": [
    "### import data, clean, and concat into a tidy csv"
   ]
  },
  {
   "cell_type": "code",
   "execution_count": 1,
   "metadata": {
    "extensions": {
     "jupyter_dashboards": {
      "version": 1,
      "views": {
       "grid_default": {
        "hidden": true
       },
       "report_default": {
        "hidden": true
       }
      }
     }
    }
   },
   "outputs": [],
   "source": [
    "%matplotlib inline\n",
    "\n",
    "###import packages\n",
    "import numpy as np\n",
    "import pandas as pd\n",
    "import matplotlib.pyplot as plt\n",
    "import seaborn as sns\n",
    "\n",
    "sns.set_style('darkgrid')"
   ]
  },
  {
   "cell_type": "markdown",
   "metadata": {
    "extensions": {
     "jupyter_dashboards": {
      "version": 1,
      "views": {
       "grid_default": {
        "col": 0,
        "height": 4,
        "hidden": false,
        "row": 0,
        "width": 4
       },
       "report_default": {
        "hidden": false
       }
      }
     }
    }
   },
   "source": [
    "## load and read data"
   ]
  },
  {
   "cell_type": "code",
   "execution_count": 2,
   "metadata": {},
   "outputs": [],
   "source": [
    "cd_2012 = 'data/Chengdu_2012_HourlyPM25_created20140423.csv'\n",
    "cd_2013 = 'data/Chengdu_2013_HourlyPM25_created20140423.csv'\n",
    "cd_2014 = 'data/Chengdu_2014_HourlyPM25_created20150203.csv'\n",
    "cd_2015 = 'data/Chengdu_2015_HourlyPM25_created20160201.csv'\n",
    "cd_2016 = 'data/Chengdu_2016_HourlyPM25_created20170201.csv'\n",
    "cd_2017 = 'data/Chengdu_2017_HourlyPM25_created20170803.csv'\n",
    "\n",
    "csv_files = [cd_2012,cd_2013,cd_2014,cd_2015,cd_2016,cd_2017]"
   ]
  },
  {
   "cell_type": "code",
   "execution_count": 3,
   "metadata": {},
   "outputs": [
    {
     "data": {
      "text/html": [
       "<div>\n",
       "<style scoped>\n",
       "    .dataframe tbody tr th:only-of-type {\n",
       "        vertical-align: middle;\n",
       "    }\n",
       "\n",
       "    .dataframe tbody tr th {\n",
       "        vertical-align: top;\n",
       "    }\n",
       "\n",
       "    .dataframe thead th {\n",
       "        text-align: right;\n",
       "    }\n",
       "</style>\n",
       "<table border=\"1\" class=\"dataframe\">\n",
       "  <thead>\n",
       "    <tr style=\"text-align: right;\">\n",
       "      <th></th>\n",
       "      <th>Site</th>\n",
       "      <th>Parameter</th>\n",
       "      <th>Year</th>\n",
       "      <th>Month</th>\n",
       "      <th>Day</th>\n",
       "      <th>Hour</th>\n",
       "      <th>Value</th>\n",
       "      <th>Duration</th>\n",
       "      <th>QC Name</th>\n",
       "    </tr>\n",
       "    <tr>\n",
       "      <th>Date (LST)</th>\n",
       "      <th></th>\n",
       "      <th></th>\n",
       "      <th></th>\n",
       "      <th></th>\n",
       "      <th></th>\n",
       "      <th></th>\n",
       "      <th></th>\n",
       "      <th></th>\n",
       "      <th></th>\n",
       "    </tr>\n",
       "  </thead>\n",
       "  <tbody>\n",
       "    <tr>\n",
       "      <th>2012-01-01 00:00:00</th>\n",
       "      <td>Chengdu</td>\n",
       "      <td>PM2.5</td>\n",
       "      <td>2012</td>\n",
       "      <td>1</td>\n",
       "      <td>1</td>\n",
       "      <td>0</td>\n",
       "      <td>-999</td>\n",
       "      <td>1 Hr</td>\n",
       "      <td>Missing</td>\n",
       "    </tr>\n",
       "    <tr>\n",
       "      <th>2012-01-01 01:00:00</th>\n",
       "      <td>Chengdu</td>\n",
       "      <td>PM2.5</td>\n",
       "      <td>2012</td>\n",
       "      <td>1</td>\n",
       "      <td>1</td>\n",
       "      <td>1</td>\n",
       "      <td>-999</td>\n",
       "      <td>1 Hr</td>\n",
       "      <td>Missing</td>\n",
       "    </tr>\n",
       "    <tr>\n",
       "      <th>2012-01-01 02:00:00</th>\n",
       "      <td>Chengdu</td>\n",
       "      <td>PM2.5</td>\n",
       "      <td>2012</td>\n",
       "      <td>1</td>\n",
       "      <td>1</td>\n",
       "      <td>2</td>\n",
       "      <td>-999</td>\n",
       "      <td>1 Hr</td>\n",
       "      <td>Missing</td>\n",
       "    </tr>\n",
       "    <tr>\n",
       "      <th>2012-01-01 03:00:00</th>\n",
       "      <td>Chengdu</td>\n",
       "      <td>PM2.5</td>\n",
       "      <td>2012</td>\n",
       "      <td>1</td>\n",
       "      <td>1</td>\n",
       "      <td>3</td>\n",
       "      <td>-999</td>\n",
       "      <td>1 Hr</td>\n",
       "      <td>Missing</td>\n",
       "    </tr>\n",
       "    <tr>\n",
       "      <th>2012-01-01 04:00:00</th>\n",
       "      <td>Chengdu</td>\n",
       "      <td>PM2.5</td>\n",
       "      <td>2012</td>\n",
       "      <td>1</td>\n",
       "      <td>1</td>\n",
       "      <td>4</td>\n",
       "      <td>-999</td>\n",
       "      <td>1 Hr</td>\n",
       "      <td>Missing</td>\n",
       "    </tr>\n",
       "  </tbody>\n",
       "</table>\n",
       "</div>"
      ],
      "text/plain": [
       "                        Site Parameter  Year  Month  Day  Hour  Value  \\\n",
       "Date (LST)                                                              \n",
       "2012-01-01 00:00:00  Chengdu     PM2.5  2012      1    1     0   -999   \n",
       "2012-01-01 01:00:00  Chengdu     PM2.5  2012      1    1     1   -999   \n",
       "2012-01-01 02:00:00  Chengdu     PM2.5  2012      1    1     2   -999   \n",
       "2012-01-01 03:00:00  Chengdu     PM2.5  2012      1    1     3   -999   \n",
       "2012-01-01 04:00:00  Chengdu     PM2.5  2012      1    1     4   -999   \n",
       "\n",
       "                    Duration  QC Name  \n",
       "Date (LST)                             \n",
       "2012-01-01 00:00:00     1 Hr  Missing  \n",
       "2012-01-01 01:00:00     1 Hr  Missing  \n",
       "2012-01-01 02:00:00     1 Hr  Missing  \n",
       "2012-01-01 03:00:00     1 Hr  Missing  \n",
       "2012-01-01 04:00:00     1 Hr  Missing  "
      ]
     },
     "execution_count": 3,
     "metadata": {},
     "output_type": "execute_result"
    }
   ],
   "source": [
    "### concat csv's together \n",
    "frames = []\n",
    "\n",
    "### for loop to read and append each csv\n",
    "for csv in csv_files:\n",
    "    df = pd.read_csv(csv, index_col='Date (LST)', parse_dates=True)\n",
    "    frames.append(df)\n",
    "\n",
    "cd_df = pd.concat(frames)\n",
    "\n",
    "cd_df.head()"
   ]
  },
  {
   "cell_type": "code",
   "execution_count": 4,
   "metadata": {},
   "outputs": [
    {
     "data": {
      "text/html": [
       "<div>\n",
       "<style scoped>\n",
       "    .dataframe tbody tr th:only-of-type {\n",
       "        vertical-align: middle;\n",
       "    }\n",
       "\n",
       "    .dataframe tbody tr th {\n",
       "        vertical-align: top;\n",
       "    }\n",
       "\n",
       "    .dataframe thead th {\n",
       "        text-align: right;\n",
       "    }\n",
       "</style>\n",
       "<table border=\"1\" class=\"dataframe\">\n",
       "  <thead>\n",
       "    <tr style=\"text-align: right;\">\n",
       "      <th></th>\n",
       "      <th>Site</th>\n",
       "      <th>Parameter</th>\n",
       "      <th>Year</th>\n",
       "      <th>Month</th>\n",
       "      <th>Day</th>\n",
       "      <th>Hour</th>\n",
       "      <th>Value</th>\n",
       "      <th>Duration</th>\n",
       "      <th>QC Name</th>\n",
       "    </tr>\n",
       "    <tr>\n",
       "      <th>Date (LST)</th>\n",
       "      <th></th>\n",
       "      <th></th>\n",
       "      <th></th>\n",
       "      <th></th>\n",
       "      <th></th>\n",
       "      <th></th>\n",
       "      <th></th>\n",
       "      <th></th>\n",
       "      <th></th>\n",
       "    </tr>\n",
       "  </thead>\n",
       "  <tbody>\n",
       "    <tr>\n",
       "      <th>2017-06-30 19:00:00</th>\n",
       "      <td>Chengdu</td>\n",
       "      <td>PM2.5</td>\n",
       "      <td>2017</td>\n",
       "      <td>6</td>\n",
       "      <td>30</td>\n",
       "      <td>19</td>\n",
       "      <td>33</td>\n",
       "      <td>1 Hr</td>\n",
       "      <td>Valid</td>\n",
       "    </tr>\n",
       "    <tr>\n",
       "      <th>2017-06-30 20:00:00</th>\n",
       "      <td>Chengdu</td>\n",
       "      <td>PM2.5</td>\n",
       "      <td>2017</td>\n",
       "      <td>6</td>\n",
       "      <td>30</td>\n",
       "      <td>20</td>\n",
       "      <td>29</td>\n",
       "      <td>1 Hr</td>\n",
       "      <td>Valid</td>\n",
       "    </tr>\n",
       "    <tr>\n",
       "      <th>2017-06-30 21:00:00</th>\n",
       "      <td>Chengdu</td>\n",
       "      <td>PM2.5</td>\n",
       "      <td>2017</td>\n",
       "      <td>6</td>\n",
       "      <td>30</td>\n",
       "      <td>21</td>\n",
       "      <td>37</td>\n",
       "      <td>1 Hr</td>\n",
       "      <td>Valid</td>\n",
       "    </tr>\n",
       "    <tr>\n",
       "      <th>2017-06-30 22:00:00</th>\n",
       "      <td>Chengdu</td>\n",
       "      <td>PM2.5</td>\n",
       "      <td>2017</td>\n",
       "      <td>6</td>\n",
       "      <td>30</td>\n",
       "      <td>22</td>\n",
       "      <td>32</td>\n",
       "      <td>1 Hr</td>\n",
       "      <td>Valid</td>\n",
       "    </tr>\n",
       "    <tr>\n",
       "      <th>2017-06-30 23:00:00</th>\n",
       "      <td>Chengdu</td>\n",
       "      <td>PM2.5</td>\n",
       "      <td>2017</td>\n",
       "      <td>6</td>\n",
       "      <td>30</td>\n",
       "      <td>23</td>\n",
       "      <td>32</td>\n",
       "      <td>1 Hr</td>\n",
       "      <td>Valid</td>\n",
       "    </tr>\n",
       "  </tbody>\n",
       "</table>\n",
       "</div>"
      ],
      "text/plain": [
       "                        Site Parameter  Year  Month  Day  Hour  Value  \\\n",
       "Date (LST)                                                              \n",
       "2017-06-30 19:00:00  Chengdu     PM2.5  2017      6   30    19     33   \n",
       "2017-06-30 20:00:00  Chengdu     PM2.5  2017      6   30    20     29   \n",
       "2017-06-30 21:00:00  Chengdu     PM2.5  2017      6   30    21     37   \n",
       "2017-06-30 22:00:00  Chengdu     PM2.5  2017      6   30    22     32   \n",
       "2017-06-30 23:00:00  Chengdu     PM2.5  2017      6   30    23     32   \n",
       "\n",
       "                    Duration QC Name  \n",
       "Date (LST)                            \n",
       "2017-06-30 19:00:00     1 Hr   Valid  \n",
       "2017-06-30 20:00:00     1 Hr   Valid  \n",
       "2017-06-30 21:00:00     1 Hr   Valid  \n",
       "2017-06-30 22:00:00     1 Hr   Valid  \n",
       "2017-06-30 23:00:00     1 Hr   Valid  "
      ]
     },
     "execution_count": 4,
     "metadata": {},
     "output_type": "execute_result"
    }
   ],
   "source": [
    "cd_df.tail()"
   ]
  },
  {
   "cell_type": "code",
   "execution_count": 5,
   "metadata": {},
   "outputs": [
    {
     "name": "stdout",
     "output_type": "stream",
     "text": [
      "<class 'pandas.core.frame.DataFrame'>\n",
      "DatetimeIndex: 48192 entries, 2012-01-01 00:00:00 to 2017-06-30 23:00:00\n",
      "Data columns (total 9 columns):\n",
      "Site         48192 non-null object\n",
      "Parameter    48192 non-null object\n",
      "Year         48192 non-null int64\n",
      "Month        48192 non-null int64\n",
      "Day          48192 non-null int64\n",
      "Hour         48192 non-null int64\n",
      "Value        48192 non-null int64\n",
      "Duration     48192 non-null object\n",
      "QC Name      48192 non-null object\n",
      "dtypes: int64(5), object(4)\n",
      "memory usage: 3.7+ MB\n"
     ]
    }
   ],
   "source": [
    "cd_df.info()"
   ]
  },
  {
   "cell_type": "code",
   "execution_count": 6,
   "metadata": {},
   "outputs": [
    {
     "name": "stdout",
     "output_type": "stream",
     "text": [
      "<class 'pandas.core.frame.DataFrame'>\n",
      "DatetimeIndex: 41786 entries, 2012-05-14 14:00:00 to 2017-06-30 23:00:00\n",
      "Data columns (total 9 columns):\n",
      "Site         41786 non-null object\n",
      "Parameter    41786 non-null object\n",
      "Year         41786 non-null int64\n",
      "Month        41786 non-null int64\n",
      "Day          41786 non-null int64\n",
      "Hour         41786 non-null int64\n",
      "Value        41786 non-null int64\n",
      "Duration     41786 non-null object\n",
      "qc_name      41786 non-null object\n",
      "dtypes: int64(5), object(4)\n",
      "memory usage: 3.2+ MB\n"
     ]
    }
   ],
   "source": [
    "cd_df = cd_df.rename(columns={'QC Name': 'qc_name'})\n",
    "\n",
    "### remove rows missing values\n",
    "cd_df = cd_df[cd_df.qc_name != 'Missing']\n",
    "\n",
    "cd_df.info()"
   ]
  },
  {
   "cell_type": "code",
   "execution_count": 7,
   "metadata": {},
   "outputs": [
    {
     "name": "stdout",
     "output_type": "stream",
     "text": [
      "<class 'pandas.core.frame.DataFrame'>\n",
      "DatetimeIndex: 41786 entries, 2012-05-14 14:00:00 to 2017-06-30 23:00:00\n",
      "Data columns (total 9 columns):\n",
      "Site         41786 non-null object\n",
      "Parameter    41786 non-null object\n",
      "Year         41786 non-null int64\n",
      "Month        41786 non-null int64\n",
      "Day          41786 non-null int64\n",
      "Hour         41786 non-null int64\n",
      "Value        41786 non-null int64\n",
      "Duration     41786 non-null object\n",
      "qc_name      41786 non-null object\n",
      "dtypes: int64(5), object(4)\n",
      "memory usage: 11.8 MB\n"
     ]
    }
   ],
   "source": [
    "cd_df.info(memory_usage='deep')"
   ]
  },
  {
   "cell_type": "code",
   "execution_count": 8,
   "metadata": {},
   "outputs": [
    {
     "data": {
      "text/plain": [
       "Index(['Site', 'Parameter', 'Year', 'Month', 'Day', 'Hour', 'Value',\n",
       "       'Duration', 'qc_name'],\n",
       "      dtype='object')"
      ]
     },
     "execution_count": 8,
     "metadata": {},
     "output_type": "execute_result"
    }
   ],
   "source": [
    "cd_df.columns"
   ]
  },
  {
   "cell_type": "code",
   "execution_count": 9,
   "metadata": {},
   "outputs": [
    {
     "data": {
      "text/html": [
       "<div>\n",
       "<style scoped>\n",
       "    .dataframe tbody tr th:only-of-type {\n",
       "        vertical-align: middle;\n",
       "    }\n",
       "\n",
       "    .dataframe tbody tr th {\n",
       "        vertical-align: top;\n",
       "    }\n",
       "\n",
       "    .dataframe thead th {\n",
       "        text-align: right;\n",
       "    }\n",
       "</style>\n",
       "<table border=\"1\" class=\"dataframe\">\n",
       "  <thead>\n",
       "    <tr style=\"text-align: right;\">\n",
       "      <th></th>\n",
       "      <th>Site</th>\n",
       "      <th>Parameter</th>\n",
       "      <th>Year</th>\n",
       "      <th>Month</th>\n",
       "      <th>Day</th>\n",
       "      <th>Hour</th>\n",
       "      <th>Value</th>\n",
       "    </tr>\n",
       "    <tr>\n",
       "      <th>Date (LST)</th>\n",
       "      <th></th>\n",
       "      <th></th>\n",
       "      <th></th>\n",
       "      <th></th>\n",
       "      <th></th>\n",
       "      <th></th>\n",
       "      <th></th>\n",
       "    </tr>\n",
       "  </thead>\n",
       "  <tbody>\n",
       "    <tr>\n",
       "      <th>2012-05-14 14:00:00</th>\n",
       "      <td>Chengdu</td>\n",
       "      <td>PM2.5</td>\n",
       "      <td>2012</td>\n",
       "      <td>5</td>\n",
       "      <td>14</td>\n",
       "      <td>14</td>\n",
       "      <td>46</td>\n",
       "    </tr>\n",
       "    <tr>\n",
       "      <th>2012-06-04 23:00:00</th>\n",
       "      <td>Chengdu</td>\n",
       "      <td>PM2.5</td>\n",
       "      <td>2012</td>\n",
       "      <td>6</td>\n",
       "      <td>4</td>\n",
       "      <td>23</td>\n",
       "      <td>69</td>\n",
       "    </tr>\n",
       "    <tr>\n",
       "      <th>2012-06-05 15:00:00</th>\n",
       "      <td>Chengdu</td>\n",
       "      <td>PM2.5</td>\n",
       "      <td>2012</td>\n",
       "      <td>6</td>\n",
       "      <td>5</td>\n",
       "      <td>15</td>\n",
       "      <td>98</td>\n",
       "    </tr>\n",
       "    <tr>\n",
       "      <th>2012-06-05 16:00:00</th>\n",
       "      <td>Chengdu</td>\n",
       "      <td>PM2.5</td>\n",
       "      <td>2012</td>\n",
       "      <td>6</td>\n",
       "      <td>5</td>\n",
       "      <td>16</td>\n",
       "      <td>89</td>\n",
       "    </tr>\n",
       "    <tr>\n",
       "      <th>2012-06-05 17:00:00</th>\n",
       "      <td>Chengdu</td>\n",
       "      <td>PM2.5</td>\n",
       "      <td>2012</td>\n",
       "      <td>6</td>\n",
       "      <td>5</td>\n",
       "      <td>17</td>\n",
       "      <td>66</td>\n",
       "    </tr>\n",
       "  </tbody>\n",
       "</table>\n",
       "</div>"
      ],
      "text/plain": [
       "                        Site Parameter  Year  Month  Day  Hour  Value\n",
       "Date (LST)                                                           \n",
       "2012-05-14 14:00:00  Chengdu     PM2.5  2012      5   14    14     46\n",
       "2012-06-04 23:00:00  Chengdu     PM2.5  2012      6    4    23     69\n",
       "2012-06-05 15:00:00  Chengdu     PM2.5  2012      6    5    15     98\n",
       "2012-06-05 16:00:00  Chengdu     PM2.5  2012      6    5    16     89\n",
       "2012-06-05 17:00:00  Chengdu     PM2.5  2012      6    5    17     66"
      ]
     },
     "execution_count": 9,
     "metadata": {},
     "output_type": "execute_result"
    }
   ],
   "source": [
    "thinned_cols = ['Site', 'Parameter', 'Year', 'Month', 'Day', 'Hour', 'Value']\n",
    "\n",
    "thin_cd_df = cd_df.loc[:,thinned_cols]\n",
    "\n",
    "thin_cd_df.head()"
   ]
  },
  {
   "cell_type": "code",
   "execution_count": 10,
   "metadata": {},
   "outputs": [
    {
     "data": {
      "text/html": [
       "<div>\n",
       "<style scoped>\n",
       "    .dataframe tbody tr th:only-of-type {\n",
       "        vertical-align: middle;\n",
       "    }\n",
       "\n",
       "    .dataframe tbody tr th {\n",
       "        vertical-align: top;\n",
       "    }\n",
       "\n",
       "    .dataframe thead th {\n",
       "        text-align: right;\n",
       "    }\n",
       "</style>\n",
       "<table border=\"1\" class=\"dataframe\">\n",
       "  <thead>\n",
       "    <tr style=\"text-align: right;\">\n",
       "      <th></th>\n",
       "      <th>Site</th>\n",
       "      <th>Parameter</th>\n",
       "      <th>Year</th>\n",
       "      <th>Month</th>\n",
       "      <th>Day</th>\n",
       "      <th>Hour</th>\n",
       "      <th>Value</th>\n",
       "    </tr>\n",
       "    <tr>\n",
       "      <th>Date (LST)</th>\n",
       "      <th></th>\n",
       "      <th></th>\n",
       "      <th></th>\n",
       "      <th></th>\n",
       "      <th></th>\n",
       "      <th></th>\n",
       "      <th></th>\n",
       "    </tr>\n",
       "  </thead>\n",
       "  <tbody>\n",
       "    <tr>\n",
       "      <th>2017-06-30 19:00:00</th>\n",
       "      <td>Chengdu</td>\n",
       "      <td>PM2.5</td>\n",
       "      <td>2017</td>\n",
       "      <td>6</td>\n",
       "      <td>30</td>\n",
       "      <td>19</td>\n",
       "      <td>33</td>\n",
       "    </tr>\n",
       "    <tr>\n",
       "      <th>2017-06-30 20:00:00</th>\n",
       "      <td>Chengdu</td>\n",
       "      <td>PM2.5</td>\n",
       "      <td>2017</td>\n",
       "      <td>6</td>\n",
       "      <td>30</td>\n",
       "      <td>20</td>\n",
       "      <td>29</td>\n",
       "    </tr>\n",
       "    <tr>\n",
       "      <th>2017-06-30 21:00:00</th>\n",
       "      <td>Chengdu</td>\n",
       "      <td>PM2.5</td>\n",
       "      <td>2017</td>\n",
       "      <td>6</td>\n",
       "      <td>30</td>\n",
       "      <td>21</td>\n",
       "      <td>37</td>\n",
       "    </tr>\n",
       "    <tr>\n",
       "      <th>2017-06-30 22:00:00</th>\n",
       "      <td>Chengdu</td>\n",
       "      <td>PM2.5</td>\n",
       "      <td>2017</td>\n",
       "      <td>6</td>\n",
       "      <td>30</td>\n",
       "      <td>22</td>\n",
       "      <td>32</td>\n",
       "    </tr>\n",
       "    <tr>\n",
       "      <th>2017-06-30 23:00:00</th>\n",
       "      <td>Chengdu</td>\n",
       "      <td>PM2.5</td>\n",
       "      <td>2017</td>\n",
       "      <td>6</td>\n",
       "      <td>30</td>\n",
       "      <td>23</td>\n",
       "      <td>32</td>\n",
       "    </tr>\n",
       "  </tbody>\n",
       "</table>\n",
       "</div>"
      ],
      "text/plain": [
       "                        Site Parameter  Year  Month  Day  Hour  Value\n",
       "Date (LST)                                                           \n",
       "2017-06-30 19:00:00  Chengdu     PM2.5  2017      6   30    19     33\n",
       "2017-06-30 20:00:00  Chengdu     PM2.5  2017      6   30    20     29\n",
       "2017-06-30 21:00:00  Chengdu     PM2.5  2017      6   30    21     37\n",
       "2017-06-30 22:00:00  Chengdu     PM2.5  2017      6   30    22     32\n",
       "2017-06-30 23:00:00  Chengdu     PM2.5  2017      6   30    23     32"
      ]
     },
     "execution_count": 10,
     "metadata": {},
     "output_type": "execute_result"
    }
   ],
   "source": [
    "thin_cd_df.tail()"
   ]
  },
  {
   "cell_type": "code",
   "execution_count": 11,
   "metadata": {},
   "outputs": [
    {
     "name": "stdout",
     "output_type": "stream",
     "text": [
      "<class 'pandas.core.frame.DataFrame'>\n",
      "DatetimeIndex: 41786 entries, 2012-05-14 14:00:00 to 2017-06-30 23:00:00\n",
      "Data columns (total 7 columns):\n",
      "Site         41786 non-null object\n",
      "Parameter    41786 non-null object\n",
      "Year         41786 non-null int64\n",
      "Month        41786 non-null int64\n",
      "Day          41786 non-null int64\n",
      "Hour         41786 non-null int64\n",
      "Value        41786 non-null int64\n",
      "dtypes: int64(5), object(2)\n",
      "memory usage: 6.9 MB\n"
     ]
    }
   ],
   "source": [
    "thin_cd_df.info(memory_usage='deep')"
   ]
  },
  {
   "cell_type": "code",
   "execution_count": 12,
   "metadata": {},
   "outputs": [],
   "source": [
    "thin_cd_df.Site = thin_cd_df.Site.astype('category')\n",
    "thin_cd_df.Parameter = thin_cd_df.Parameter.astype('category')"
   ]
  },
  {
   "cell_type": "code",
   "execution_count": 13,
   "metadata": {},
   "outputs": [
    {
     "name": "stdout",
     "output_type": "stream",
     "text": [
      "<class 'pandas.core.frame.DataFrame'>\n",
      "DatetimeIndex: 41786 entries, 2012-05-14 14:00:00 to 2017-06-30 23:00:00\n",
      "Data columns (total 7 columns):\n",
      "Site         41786 non-null category\n",
      "Parameter    41786 non-null category\n",
      "Year         41786 non-null int64\n",
      "Month        41786 non-null int64\n",
      "Day          41786 non-null int64\n",
      "Hour         41786 non-null int64\n",
      "Value        41786 non-null int64\n",
      "dtypes: category(2), int64(5)\n",
      "memory usage: 2.0 MB\n"
     ]
    }
   ],
   "source": [
    "thin_cd_df.info()"
   ]
  },
  {
   "cell_type": "code",
   "execution_count": 14,
   "metadata": {},
   "outputs": [],
   "source": [
    "thin_cd_df.to_csv('data/CD_AQI.csv')"
   ]
  },
  {
   "cell_type": "markdown",
   "metadata": {},
   "source": [
    "## use tidy data for visualizations"
   ]
  },
  {
   "cell_type": "code",
   "execution_count": 17,
   "metadata": {},
   "outputs": [
    {
     "data": {
      "text/html": [
       "<div>\n",
       "<style scoped>\n",
       "    .dataframe tbody tr th:only-of-type {\n",
       "        vertical-align: middle;\n",
       "    }\n",
       "\n",
       "    .dataframe tbody tr th {\n",
       "        vertical-align: top;\n",
       "    }\n",
       "\n",
       "    .dataframe thead th {\n",
       "        text-align: right;\n",
       "    }\n",
       "</style>\n",
       "<table border=\"1\" class=\"dataframe\">\n",
       "  <thead>\n",
       "    <tr style=\"text-align: right;\">\n",
       "      <th></th>\n",
       "      <th>Site</th>\n",
       "      <th>Parameter</th>\n",
       "      <th>Year</th>\n",
       "      <th>Month</th>\n",
       "      <th>Day</th>\n",
       "      <th>Hour</th>\n",
       "      <th>Value</th>\n",
       "    </tr>\n",
       "    <tr>\n",
       "      <th>Date (LST)</th>\n",
       "      <th></th>\n",
       "      <th></th>\n",
       "      <th></th>\n",
       "      <th></th>\n",
       "      <th></th>\n",
       "      <th></th>\n",
       "      <th></th>\n",
       "    </tr>\n",
       "  </thead>\n",
       "  <tbody>\n",
       "    <tr>\n",
       "      <th>2012-05-14 14:00:00</th>\n",
       "      <td>Chengdu</td>\n",
       "      <td>PM2.5</td>\n",
       "      <td>2012</td>\n",
       "      <td>5</td>\n",
       "      <td>14</td>\n",
       "      <td>14</td>\n",
       "      <td>46</td>\n",
       "    </tr>\n",
       "    <tr>\n",
       "      <th>2012-06-04 23:00:00</th>\n",
       "      <td>Chengdu</td>\n",
       "      <td>PM2.5</td>\n",
       "      <td>2012</td>\n",
       "      <td>6</td>\n",
       "      <td>4</td>\n",
       "      <td>23</td>\n",
       "      <td>69</td>\n",
       "    </tr>\n",
       "    <tr>\n",
       "      <th>2012-06-05 15:00:00</th>\n",
       "      <td>Chengdu</td>\n",
       "      <td>PM2.5</td>\n",
       "      <td>2012</td>\n",
       "      <td>6</td>\n",
       "      <td>5</td>\n",
       "      <td>15</td>\n",
       "      <td>98</td>\n",
       "    </tr>\n",
       "    <tr>\n",
       "      <th>2012-06-05 16:00:00</th>\n",
       "      <td>Chengdu</td>\n",
       "      <td>PM2.5</td>\n",
       "      <td>2012</td>\n",
       "      <td>6</td>\n",
       "      <td>5</td>\n",
       "      <td>16</td>\n",
       "      <td>89</td>\n",
       "    </tr>\n",
       "    <tr>\n",
       "      <th>2012-06-05 17:00:00</th>\n",
       "      <td>Chengdu</td>\n",
       "      <td>PM2.5</td>\n",
       "      <td>2012</td>\n",
       "      <td>6</td>\n",
       "      <td>5</td>\n",
       "      <td>17</td>\n",
       "      <td>66</td>\n",
       "    </tr>\n",
       "  </tbody>\n",
       "</table>\n",
       "</div>"
      ],
      "text/plain": [
       "                        Site Parameter  Year  Month  Day  Hour  Value\n",
       "Date (LST)                                                           \n",
       "2012-05-14 14:00:00  Chengdu     PM2.5  2012      5   14    14     46\n",
       "2012-06-04 23:00:00  Chengdu     PM2.5  2012      6    4    23     69\n",
       "2012-06-05 15:00:00  Chengdu     PM2.5  2012      6    5    15     98\n",
       "2012-06-05 16:00:00  Chengdu     PM2.5  2012      6    5    16     89\n",
       "2012-06-05 17:00:00  Chengdu     PM2.5  2012      6    5    17     66"
      ]
     },
     "execution_count": 17,
     "metadata": {},
     "output_type": "execute_result"
    }
   ],
   "source": [
    "df = pd.read_csv('data/CD_AQI.csv', index_col='Date (LST)', parse_dates=True)\n",
    "\n",
    "df.head()"
   ]
  },
  {
   "cell_type": "code",
   "execution_count": 39,
   "metadata": {},
   "outputs": [
    {
     "data": {
      "image/png": "[encoded data removed]",
      "text/plain": [
       "<matplotlib.figure.Figure at 0x177109480f0>"
      ]
     },
     "metadata": {},
     "output_type": "display_data"
    }
   ],
   "source": [
    "df.plot.scatter('Value', 'Year', c='Value', colormap='viridis', alpha=0.5)\n",
    "\n",
    "plt.show()"
   ]
  },
  {
   "cell_type": "code",
   "execution_count": 30,
   "metadata": {},
   "outputs": [
    {
     "data": {
      "text/plain": [
       "688"
      ]
     },
     "execution_count": 30,
     "metadata": {},
     "output_type": "execute_result"
    }
   ],
   "source": [
    "df.Value.max()"
   ]
  },
  {
   "cell_type": "code",
   "execution_count": null,
   "metadata": {},
   "outputs": [],
   "source": []
  },
  {
   "cell_type": "code",
   "execution_count": null,
   "metadata": {},
   "outputs": [],
   "source": []
  },
  {
   "cell_type": "code",
   "execution_count": null,
   "metadata": {},
   "outputs": [],
   "source": []
  }
 ],
 "metadata": {
  "extensions": {
   "jupyter_dashboards": {
    "activeView": "report_default",
    "version": 1,
    "views": {
     "grid_default": {
      "cellMargin": 10,
      "defaultCellHeight": 20,
      "maxColumns": 12,
      "name": "grid",
      "type": "grid"
     },
     "report_default": {
      "name": "report",
      "type": "report"
     }
    }
   }
  },
  "kernelspec": {
   "display_name": "Python 3",
   "language": "python",
   "name": "python3"
  },
  "language_info": {
   "codemirror_mode": {
    "name": "ipython",
    "version": 3
   },
   "file_extension": ".py",
   "mimetype": "text/x-python",
   "name": "python",
   "nbconvert_exporter": "python",
   "pygments_lexer": "ipython3",
   "version": "3.6.4"
  }
 },
 "nbformat": 4,
 "nbformat_minor": 2
}
